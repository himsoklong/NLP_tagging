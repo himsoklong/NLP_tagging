{
 "cells": [
  {
   "cell_type": "code",
   "execution_count": 12,
   "metadata": {},
   "outputs": [],
   "source": [
    "import os\n",
    "from torch.utils.data import DataLoader,Dataset, random_split, Subset\n",
    "from matplotlib import pyplot as plt\n",
    "import pandas as pd\n",
    "import fnmatch\n",
    "import torch\n",
    "import spacy"
   ]
  },
  {
   "cell_type": "code",
   "execution_count": 21,
   "metadata": {},
   "outputs": [],
   "source": [
    "with open('../Dataset/dev/2009/2009-35-4-597-635.txt') as f:\n",
    "    lines = f.readlines()"
   ]
  },
  {
   "cell_type": "code",
   "execution_count": 32,
   "metadata": {},
   "outputs": [
    {
     "ename": "IndexError",
     "evalue": "list index out of range",
     "output_type": "error",
     "traceback": [
      "\u001b[0;31m---------------------------------------------------------------------------\u001b[0m",
      "\u001b[0;31mIndexError\u001b[0m                                Traceback (most recent call last)",
      "\u001b[1;32m/Users/himsoklong/Documents/2022_NLP/Semester 3/Terminology /Final Project/NLP_tagging/Code/dataset.ipynb Cell 3\u001b[0m in \u001b[0;36m<cell line: 4>\u001b[0;34m()\u001b[0m\n\u001b[1;32m      <a href='vscode-notebook-cell:/Users/himsoklong/Documents/2022_NLP/Semester%203/Terminology%20/Final%20Project/NLP_tagging/Code/dataset.ipynb#X10sZmlsZQ%3D%3D?line=1'>2</a>\u001b[0m labels \u001b[39m=\u001b[39m []\n\u001b[1;32m      <a href='vscode-notebook-cell:/Users/himsoklong/Documents/2022_NLP/Semester%203/Terminology%20/Final%20Project/NLP_tagging/Code/dataset.ipynb#X10sZmlsZQ%3D%3D?line=3'>4</a>\u001b[0m \u001b[39mfor\u001b[39;00m word \u001b[39min\u001b[39;00m lines:\n\u001b[0;32m----> <a href='vscode-notebook-cell:/Users/himsoklong/Documents/2022_NLP/Semester%203/Terminology%20/Final%20Project/NLP_tagging/Code/dataset.ipynb#X10sZmlsZQ%3D%3D?line=4'>5</a>\u001b[0m     token \u001b[39m=\u001b[39m \u001b[39mstr\u001b[39m(word\u001b[39m.\u001b[39;49msplit()[\u001b[39m0\u001b[39;49m])\n\u001b[1;32m      <a href='vscode-notebook-cell:/Users/himsoklong/Documents/2022_NLP/Semester%203/Terminology%20/Final%20Project/NLP_tagging/Code/dataset.ipynb#X10sZmlsZQ%3D%3D?line=5'>6</a>\u001b[0m     \u001b[39m# token = \"long\"\u001b[39;00m\n\u001b[1;32m      <a href='vscode-notebook-cell:/Users/himsoklong/Documents/2022_NLP/Semester%203/Terminology%20/Final%20Project/NLP_tagging/Code/dataset.ipynb#X10sZmlsZQ%3D%3D?line=6'>7</a>\u001b[0m     \u001b[39m# print(type(token))\u001b[39;00m\n\u001b[1;32m      <a href='vscode-notebook-cell:/Users/himsoklong/Documents/2022_NLP/Semester%203/Terminology%20/Final%20Project/NLP_tagging/Code/dataset.ipynb#X10sZmlsZQ%3D%3D?line=7'>8</a>\u001b[0m     \u001b[39m# label = word.split()[1]\u001b[39;00m\n\u001b[1;32m      <a href='vscode-notebook-cell:/Users/himsoklong/Documents/2022_NLP/Semester%203/Terminology%20/Final%20Project/NLP_tagging/Code/dataset.ipynb#X10sZmlsZQ%3D%3D?line=8'>9</a>\u001b[0m     tokens\u001b[39m.\u001b[39mappend(token)\n",
      "\u001b[0;31mIndexError\u001b[0m: list index out of range"
     ]
    }
   ],
   "source": [
    "tokens = []\n",
    "labels = []\n",
    "\n",
    "for word in lines:\n",
    "    token = str(word.split()[0])\n",
    "    # token = \"long\"\n",
    "    # print(type(token))\n",
    "    # label = word.split()[1]\n",
    "    tokens.append(token)\n",
    "    # labels.append(label)\n",
    "    # tokens.append(\"K\")"
   ]
  },
  {
   "cell_type": "code",
   "execution_count": 31,
   "metadata": {},
   "outputs": [
    {
     "data": {
      "text/plain": [
       "['long',\n",
       " 'long',\n",
       " 'long',\n",
       " 'long',\n",
       " 'long',\n",
       " 'long',\n",
       " 'long',\n",
       " 'long',\n",
       " 'long',\n",
       " 'long',\n",
       " 'long',\n",
       " 'long',\n",
       " 'long',\n",
       " 'long',\n",
       " 'long',\n",
       " 'long',\n",
       " 'long',\n",
       " 'long',\n",
       " 'long',\n",
       " 'long',\n",
       " 'long',\n",
       " 'long',\n",
       " 'long',\n",
       " 'long',\n",
       " 'long',\n",
       " 'long',\n",
       " 'long',\n",
       " 'long',\n",
       " 'long',\n",
       " 'long',\n",
       " 'long',\n",
       " 'long',\n",
       " 'long',\n",
       " 'long',\n",
       " 'long',\n",
       " 'long',\n",
       " 'long',\n",
       " 'long',\n",
       " 'long',\n",
       " 'long',\n",
       " 'long',\n",
       " 'long',\n",
       " 'long',\n",
       " 'long',\n",
       " 'long',\n",
       " 'long',\n",
       " 'long',\n",
       " 'long',\n",
       " 'long',\n",
       " 'long',\n",
       " 'long',\n",
       " 'long',\n",
       " 'long',\n",
       " 'long',\n",
       " 'long',\n",
       " 'long',\n",
       " 'long',\n",
       " 'long',\n",
       " 'long',\n",
       " 'long',\n",
       " 'long',\n",
       " 'long',\n",
       " 'long',\n",
       " 'long',\n",
       " 'long',\n",
       " 'long',\n",
       " 'long',\n",
       " 'long',\n",
       " 'long',\n",
       " 'long',\n",
       " 'long',\n",
       " 'long',\n",
       " 'long',\n",
       " 'long',\n",
       " 'long',\n",
       " 'long',\n",
       " 'long',\n",
       " 'long',\n",
       " 'long',\n",
       " 'long',\n",
       " 'long',\n",
       " 'long',\n",
       " 'long',\n",
       " 'long',\n",
       " 'long',\n",
       " 'long',\n",
       " 'long',\n",
       " 'long',\n",
       " 'long',\n",
       " 'long',\n",
       " 'long',\n",
       " 'long',\n",
       " 'long',\n",
       " 'long',\n",
       " 'long',\n",
       " 'long',\n",
       " 'long',\n",
       " 'long',\n",
       " 'long',\n",
       " 'long',\n",
       " 'long',\n",
       " 'long',\n",
       " 'long',\n",
       " 'long',\n",
       " 'long',\n",
       " 'long',\n",
       " 'long',\n",
       " 'long',\n",
       " 'long',\n",
       " 'long',\n",
       " 'long',\n",
       " 'long',\n",
       " 'long',\n",
       " 'long',\n",
       " 'long',\n",
       " 'long',\n",
       " 'long',\n",
       " 'long',\n",
       " 'long',\n",
       " 'long',\n",
       " 'long',\n",
       " 'long',\n",
       " 'long',\n",
       " 'long',\n",
       " 'long',\n",
       " 'long',\n",
       " 'long',\n",
       " 'long',\n",
       " 'long',\n",
       " 'long',\n",
       " 'long',\n",
       " 'long',\n",
       " 'long',\n",
       " 'long',\n",
       " 'long',\n",
       " 'long',\n",
       " 'long',\n",
       " 'long',\n",
       " 'long',\n",
       " 'long',\n",
       " 'long',\n",
       " 'long',\n",
       " 'long',\n",
       " 'long',\n",
       " 'long',\n",
       " 'long',\n",
       " 'long',\n",
       " 'long',\n",
       " 'long',\n",
       " 'long',\n",
       " 'long',\n",
       " 'long',\n",
       " 'long',\n",
       " 'long',\n",
       " 'long',\n",
       " 'long',\n",
       " 'long',\n",
       " 'long',\n",
       " 'long',\n",
       " 'long',\n",
       " 'long',\n",
       " 'long',\n",
       " 'long',\n",
       " 'long',\n",
       " 'long',\n",
       " 'long',\n",
       " 'long',\n",
       " 'long',\n",
       " 'long',\n",
       " 'long',\n",
       " 'long',\n",
       " 'long',\n",
       " 'long',\n",
       " 'long',\n",
       " 'long',\n",
       " 'long',\n",
       " 'long',\n",
       " 'long',\n",
       " 'long',\n",
       " 'long',\n",
       " 'long',\n",
       " 'long',\n",
       " 'long',\n",
       " 'long']"
      ]
     },
     "execution_count": 31,
     "metadata": {},
     "output_type": "execute_result"
    }
   ],
   "source": [
    "tokens"
   ]
  },
  {
   "cell_type": "code",
   "execution_count": 19,
   "metadata": {},
   "outputs": [
    {
     "data": {
      "text/plain": [
       "'O'"
      ]
     },
     "execution_count": 19,
     "metadata": {},
     "output_type": "execute_result"
    }
   ],
   "source": [
    "word.split()[1]"
   ]
  },
  {
   "cell_type": "code",
   "execution_count": 14,
   "metadata": {},
   "outputs": [],
   "source": [
    "nlp = spacy.load(\"en_core_web_sm\")"
   ]
  },
  {
   "cell_type": "code",
   "execution_count": 15,
   "metadata": {},
   "outputs": [
    {
     "ename": "NameError",
     "evalue": "name 'text10' is not defined",
     "output_type": "error",
     "traceback": [
      "\u001b[0;31m---------------------------------------------------------------------------\u001b[0m",
      "\u001b[0;31mNameError\u001b[0m                                 Traceback (most recent call last)",
      "\u001b[1;32m/Users/himsoklong/Documents/2022_NLP/Semester 3/Terminology /Final Project/NLP_tagging/Code/dataset.ipynb Cell 4\u001b[0m in \u001b[0;36m<cell line: 3>\u001b[0;34m()\u001b[0m\n\u001b[1;32m      <a href='vscode-notebook-cell:/Users/himsoklong/Documents/2022_NLP/Semester%203/Terminology%20/Final%20Project/NLP_tagging/Code/dataset.ipynb#X12sZmlsZQ%3D%3D?line=0'>1</a>\u001b[0m \u001b[39m#Code to get tokenized/segmented text:\u001b[39;00m\n\u001b[1;32m      <a href='vscode-notebook-cell:/Users/himsoklong/Documents/2022_NLP/Semester%203/Terminology%20/Final%20Project/NLP_tagging/Code/dataset.ipynb#X12sZmlsZQ%3D%3D?line=1'>2</a>\u001b[0m nlp \u001b[39m=\u001b[39m spacy\u001b[39m.\u001b[39mload(\u001b[39m\"\u001b[39m\u001b[39men_core_web_sm\u001b[39m\u001b[39m\"\u001b[39m)\n\u001b[0;32m----> <a href='vscode-notebook-cell:/Users/himsoklong/Documents/2022_NLP/Semester%203/Terminology%20/Final%20Project/NLP_tagging/Code/dataset.ipynb#X12sZmlsZQ%3D%3D?line=2'>3</a>\u001b[0m doc \u001b[39m=\u001b[39m nlp(text10)\n\u001b[1;32m      <a href='vscode-notebook-cell:/Users/himsoklong/Documents/2022_NLP/Semester%203/Terminology%20/Final%20Project/NLP_tagging/Code/dataset.ipynb#X12sZmlsZQ%3D%3D?line=3'>4</a>\u001b[0m \u001b[39mfor\u001b[39;00m sent \u001b[39min\u001b[39;00m doc\u001b[39m.\u001b[39msents:\n\u001b[1;32m      <a href='vscode-notebook-cell:/Users/himsoklong/Documents/2022_NLP/Semester%203/Terminology%20/Final%20Project/NLP_tagging/Code/dataset.ipynb#X12sZmlsZQ%3D%3D?line=4'>5</a>\u001b[0m     \u001b[39mfor\u001b[39;00m token \u001b[39min\u001b[39;00m sent:\n",
      "\u001b[0;31mNameError\u001b[0m: name 'text10' is not defined"
     ]
    }
   ],
   "source": [
    "#Code to get tokenized/segmented text:\n",
    "nlp = spacy.load(\"en_core_web_sm\")\n",
    "doc = nlp(text10)\n",
    "for sent in doc.sents:\n",
    "    for token in sent:\n",
    "        print(token.text+\"\\tO\")\n",
    "    print()"
   ]
  },
  {
   "cell_type": "code",
   "execution_count": null,
   "metadata": {},
   "outputs": [],
   "source": [
    "class XrayDataset(Dataset):\n",
    "\n",
    "    def __init__(self, image_dir):\n",
    "        \"\"\"Initialize the attributes of the object of the class.\"\"\"\n",
    "        self.image_dir = image_dir\n",
    "        self.image_path_list = sorted(self._find_files(image_dir))\n",
    "        self.classes = self._get_class()\n",
    "        self.class_to_idx  = self._get_class_index()\n",
    "\n",
    "    def __len__(self):\n",
    "        \"\"\"Return the size of the dataset.\"\"\"\n",
    "        return len(self.image_path_list)\n",
    "\n",
    "    def __getitem__(self, index):\n",
    "        \"\"\"Return a data sample (=image) for a given index, along with the name of the corresponding pokemon.\"\"\"\n",
    "        \n",
    "        # TO DO:\n",
    "        # - get the image path corresponding to 'index' (use the list 'self.image_path_list')\n",
    "        # - get the pokemon name\n",
    "        # - load the image into a numpy array x\n",
    "        # - transform x into a pytorch tensor of type 'float'\n",
    "        # - return the tensor x and the pokemon name\n",
    "        image_path = self.image_path_list[index]\n",
    "        label = image_path.split('/')[-2]\n",
    "        label = self.class_to_idx[label]\n",
    "        x = io.imread(image_path)\n",
    "        x = torch.tensor(x, dtype=float)\n",
    "        \n",
    "        return x, label\n",
    "\n",
    "    def _find_files(self, directory, pattern='*.jpeg'):\n",
    "        \"\"\"Recursively find all files matching the pattern.\"\"\"\n",
    "        image_path_list = []\n",
    "        for root, dirnames, filenames in os.walk(directory):\n",
    "            for filename in fnmatch.filter(filenames, pattern):\n",
    "                image_path_list.append(os.path.join(root, filename))\n",
    "        return image_path_list\n",
    "    \n",
    "    def _get_class(self):\n",
    "        classes = []\n",
    "        for path in self.image_path_list:\n",
    "            class_image = path.split('/')[2]\n",
    "            if class_image not in classes:\n",
    "                classes.append(class_image)\n",
    "        return classes\n",
    "    \n",
    "    def _get_class_index(self):\n",
    "        idx_to_class = {i:j for i, j in enumerate(self.classes)}\n",
    "        class_to_idx = {value:key for key,value in idx_to_class.items()}\n",
    "        return class_to_idx"
   ]
  },
  {
   "cell_type": "code",
   "execution_count": null,
   "metadata": {},
   "outputs": [],
   "source": [
    "# We can initialize the dataset by providing the directory of the image corpus data\n",
    "image_dir = 'Dataset/train'\n",
    "dataset = XrayDataset(image_dir=image_dir)\n",
    "\n",
    "# You can use the '_find_files' method to get the list of images paths\n",
    "image_path_list = dataset._find_files(image_dir)\n",
    "\n",
    "# Equivalently, since this list is stored as an inner attribute, you can access it directly:\n",
    "image_path_list = dataset.image_path_list\n",
    "\n",
    "# Display all file paths\n",
    "for l in image_path_list:\n",
    "    print(l)\n",
    "print('Number of images in the list', len(image_path_list))"
   ]
  },
  {
   "cell_type": "code",
   "execution_count": null,
   "metadata": {},
   "outputs": [],
   "source": [
    "train_dir = 'Dataset/train'\n",
    "val_dir = 'Dataset/val'\n",
    "test_dir = 'Dataset/test'\n",
    "train_data = XrayDataset(image_dir=train_dir)\n",
    "val_data = XrayDataset(image_dir=val_dir)\n",
    "test_data = XrayDataset(image_dir=test_dir)"
   ]
  },
  {
   "cell_type": "code",
   "execution_count": null,
   "metadata": {},
   "outputs": [],
   "source": [
    "# Set the batch size (=number of samples/images in each batch) and create the dataloader\n",
    "batch_size = 5\n",
    "train_dataloader = DataLoader(train_data, batch_size=batch_size, shuffle=True)\n",
    "val_dataloader = DataLoader(val_data, batch_size=batch_size, shuffle=True)\n",
    "test_dataloader = DataLoader(test_data, batch_size=batch_size, shuffle=True)"
   ]
  },
  {
   "cell_type": "code",
   "execution_count": null,
   "metadata": {},
   "outputs": [],
   "source": [
    "train_dataloader"
   ]
  }
 ],
 "metadata": {
  "kernelspec": {
   "display_name": "Python 3.10.4 ('Term')",
   "language": "python",
   "name": "python3"
  },
  "language_info": {
   "codemirror_mode": {
    "name": "ipython",
    "version": 3
   },
   "file_extension": ".py",
   "mimetype": "text/x-python",
   "name": "python",
   "nbconvert_exporter": "python",
   "pygments_lexer": "ipython3",
   "version": "3.10.4"
  },
  "orig_nbformat": 4,
  "vscode": {
   "interpreter": {
    "hash": "1678ca5ab7b59e8b94516e5d5af75562d2ba273177333df7549ca965526dd05f"
   }
  }
 },
 "nbformat": 4,
 "nbformat_minor": 2
}
