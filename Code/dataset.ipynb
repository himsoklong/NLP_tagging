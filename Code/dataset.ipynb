{
 "cells": [
  {
   "cell_type": "code",
   "execution_count": 1,
   "metadata": {
    "ExecuteTime": {
     "end_time": "2022-11-18T13:19:25.330592Z",
     "start_time": "2022-11-18T13:19:25.321943Z"
    }
   },
   "outputs": [],
   "source": [
    "import os\n",
    "import pandas as pd\n",
    "import fnmatch"
   ]
  },
  {
   "cell_type": "code",
   "execution_count": 2,
   "metadata": {
    "ExecuteTime": {
     "end_time": "2022-11-18T13:19:26.926918Z",
     "start_time": "2022-11-18T13:19:26.919237Z"
    }
   },
   "outputs": [],
   "source": [
    "#function that gets tokens from files\n",
    "def tokens_from_files(directory, pattern='*.final'):\n",
    "        \"\"\"Recursively find all files matching the pattern.\"\"\"\n",
    "        file_path_list = []\n",
    "        for root, dirnames, filenames in os.walk(directory):\n",
    "            for filename in fnmatch.filter(filenames, pattern):\n",
    "                file_path_list.append(os.path.join(root, filename))\n",
    "        \n",
    "        token_label_list=_extract_tokens(file_path_list)\n",
    "        return token_label_list\n",
    "\n",
    "#function that extracts tokens from a list of files (nested in the function above)\n",
    "def _extract_tokens(file_list):\n",
    "    token_label_list = []\n",
    "    for file in file_list:\n",
    "        with open(file,'r',errors='replace') as f:\n",
    "             for token_label in f.read().splitlines():\n",
    "                 token_label_list.append(token_label)\n",
    "    return token_label_list"
   ]
  },
  {
   "cell_type": "code",
   "execution_count": 3,
   "metadata": {},
   "outputs": [],
   "source": [
    "#Function that takes a list of tokens, cleans it and outputs dataframe\n",
    "def deep_clean(str_list):\n",
    "    str_list = list(filter(str.strip, str_list)) #remove empty lines\n",
    "    last_label='' #variable that keeps track of the label of the previous row\n",
    "    df = pd.DataFrame(columns = [\"Token\", \"Label\"]) #creating an empty dataframe with two columns\n",
    "\n",
    "    for line in str_list:\n",
    "        line=\"\".join(line.rstrip().lstrip()) #removes spaces on the left and right of each line\n",
    "        if line[-1]=='I' and last_label in'Oo': #checks that no 'I' labels are preceded by an'O'\n",
    "            line = list(line)\n",
    "            line[-1] = 'B'  #if the condition is true, the 'I' is replaced by a 'B'\n",
    "            line=''.join(line)\n",
    "        if line[-1]=='0': #if the label is annotated as '0' it is changed to 'O'\n",
    "            line = list(line)\n",
    "            line[-1] = 'O'\n",
    "            line=''.join(line)\n",
    "        if line[-1] in 'OBIobi': #make sure all labels are either 'O' 'I' or 'B'\n",
    "            try:\n",
    "                row=line.split() #split by space or tab\n",
    "                df.loc[len(df)] = row #add row to dataframe\n",
    "            except ValueError:\n",
    "                pass #skip problematic lines\n",
    "            df['Label'] = df['Label'].str.upper() #make all labels upper case\n",
    "        last_label=line[-1] #updates label of previous row for next loop\n",
    "    return df\n"
   ]
  },
  {
   "cell_type": "code",
   "execution_count": 4,
   "metadata": {},
   "outputs": [],
   "source": [
    "# Note: This cell takes a long time to execute\n",
    "\n",
    "path='/mnt/c/Users/noral/Documents/M2_TAL/Term/NLP_tagging/Dataset/' #add your directory path\n",
    "\n",
    "str_list = tokens_from_files(path) #find final annotation files in directory and extract tokens\n",
    "df=deep_clean(str_list) #create dataframe with tokens and labels (and remove/correct erroneous lines)"
   ]
  },
  {
   "cell_type": "code",
   "execution_count": 5,
   "metadata": {},
   "outputs": [
    {
     "data": {
      "text/html": [
       "<div>\n",
       "<style scoped>\n",
       "    .dataframe tbody tr th:only-of-type {\n",
       "        vertical-align: middle;\n",
       "    }\n",
       "\n",
       "    .dataframe tbody tr th {\n",
       "        vertical-align: top;\n",
       "    }\n",
       "\n",
       "    .dataframe thead th {\n",
       "        text-align: right;\n",
       "    }\n",
       "</style>\n",
       "<table border=\"1\" class=\"dataframe\">\n",
       "  <thead>\n",
       "    <tr style=\"text-align: right;\">\n",
       "      <th></th>\n",
       "      <th>Token</th>\n",
       "      <th>Label</th>\n",
       "    </tr>\n",
       "  </thead>\n",
       "  <tbody>\n",
       "    <tr>\n",
       "      <th>0</th>\n",
       "      <td>This</td>\n",
       "      <td>O</td>\n",
       "    </tr>\n",
       "    <tr>\n",
       "      <th>1</th>\n",
       "      <td>article</td>\n",
       "      <td>O</td>\n",
       "    </tr>\n",
       "    <tr>\n",
       "      <th>2</th>\n",
       "      <td>presents</td>\n",
       "      <td>O</td>\n",
       "    </tr>\n",
       "    <tr>\n",
       "      <th>3</th>\n",
       "      <td>an</td>\n",
       "      <td>O</td>\n",
       "    </tr>\n",
       "    <tr>\n",
       "      <th>4</th>\n",
       "      <td>investigation</td>\n",
       "      <td>O</td>\n",
       "    </tr>\n",
       "    <tr>\n",
       "      <th>...</th>\n",
       "      <td>...</td>\n",
       "      <td>...</td>\n",
       "    </tr>\n",
       "    <tr>\n",
       "      <th>26660</th>\n",
       "      <td>banks</td>\n",
       "      <td>I</td>\n",
       "    </tr>\n",
       "    <tr>\n",
       "      <th>26661</th>\n",
       "      <td>for</td>\n",
       "      <td>O</td>\n",
       "    </tr>\n",
       "    <tr>\n",
       "      <th>26662</th>\n",
       "      <td>99</td>\n",
       "      <td>O</td>\n",
       "    </tr>\n",
       "    <tr>\n",
       "      <th>26663</th>\n",
       "      <td>languages</td>\n",
       "      <td>O</td>\n",
       "    </tr>\n",
       "    <tr>\n",
       "      <th>26664</th>\n",
       "      <td>.</td>\n",
       "      <td>O</td>\n",
       "    </tr>\n",
       "  </tbody>\n",
       "</table>\n",
       "<p>26665 rows × 2 columns</p>\n",
       "</div>"
      ],
      "text/plain": [
       "               Token Label\n",
       "0               This     O\n",
       "1            article     O\n",
       "2           presents     O\n",
       "3                 an     O\n",
       "4      investigation     O\n",
       "...              ...   ...\n",
       "26660          banks     I\n",
       "26661            for     O\n",
       "26662             99     O\n",
       "26663      languages     O\n",
       "26664              .     O\n",
       "\n",
       "[26665 rows x 2 columns]"
      ]
     },
     "execution_count": 5,
     "metadata": {},
     "output_type": "execute_result"
    }
   ],
   "source": [
    "df"
   ]
  },
  {
   "cell_type": "code",
   "execution_count": null,
   "metadata": {},
   "outputs": [],
   "source": []
  }
 ],
 "metadata": {
  "kernelspec": {
   "display_name": "Python 3 (ipykernel)",
   "language": "python",
   "name": "python3"
  },
  "language_info": {
   "codemirror_mode": {
    "name": "ipython",
    "version": 3
   },
   "file_extension": ".py",
   "mimetype": "text/x-python",
   "name": "python",
   "nbconvert_exporter": "python",
   "pygments_lexer": "ipython3",
   "version": "3.8.12"
  },
  "toc": {
   "base_numbering": 1,
   "nav_menu": {},
   "number_sections": true,
   "sideBar": true,
   "skip_h1_title": false,
   "title_cell": "Table of Contents",
   "title_sidebar": "Contents",
   "toc_cell": false,
   "toc_position": {},
   "toc_section_display": true,
   "toc_window_display": false
  },
  "vscode": {
   "interpreter": {
    "hash": "1678ca5ab7b59e8b94516e5d5af75562d2ba273177333df7549ca965526dd05f"
   }
  }
 },
 "nbformat": 4,
 "nbformat_minor": 2
}
